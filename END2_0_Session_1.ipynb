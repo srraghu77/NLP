{
  "nbformat": 4,
  "nbformat_minor": 0,
  "metadata": {
    "colab": {
      "name": "END2.0 Session 1.ipynb",
      "provenance": [],
      "include_colab_link": true
    },
    "kernelspec": {
      "name": "python3",
      "display_name": "Python 3"
    },
    "language_info": {
      "name": "python"
    }
  },
  "cells": [
    {
      "cell_type": "markdown",
      "metadata": {
        "id": "view-in-github",
        "colab_type": "text"
      },
      "source": [
        "<a href=\"https://colab.research.google.com/github/srraghu77/NLP/blob/trunk/END2_0_Session_1.ipynb\" target=\"_parent\"><img src=\"https://colab.research.google.com/assets/colab-badge.svg\" alt=\"Open In Colab\"/></a>"
      ]
    },
    {
      "cell_type": "code",
      "metadata": {
        "colab": {
          "base_uri": "https://localhost:8080/"
        },
        "id": "GC_6PeobwwkH",
        "outputId": "22926e49-38be-4620-cb25-773c48ecd96c"
      },
      "source": [
        "import torch\n",
        "from torch.autograd import Variable\n",
        "import torch.nn as nn\n",
        "import torch.nn.functional as F\n",
        "import torch.optim as optim\n",
        "import numpy as np\n",
        "import matplotlib.pyplot as plt\n",
        "%matplotlib inline\n",
        "torch.manual_seed(2)"
      ],
      "execution_count": 1,
      "outputs": [
        {
          "output_type": "execute_result",
          "data": {
            "text/plain": [
              "<torch._C.Generator at 0x7f72f9379a90>"
            ]
          },
          "metadata": {},
          "execution_count": 1
        }
      ]
    },
    {
      "cell_type": "code",
      "metadata": {
        "id": "bL64bMTkw2GP"
      },
      "source": [
        "X = torch.Tensor([[0,0], [0,1], [1,0], [1,1]])\n",
        "Y = torch.Tensor([0, 1, 1, 0]).view(-1,1)"
      ],
      "execution_count": 2,
      "outputs": []
    },
    {
      "cell_type": "code",
      "metadata": {
        "id": "aC82kEAIw3Wf"
      },
      "source": [
        "class XOR(nn.Module):\n",
        "    def __init__(self, input_dim = 2, hidden_layer_1 = 5, hidden_layer_2 = 4, output_dim=1):\n",
        "        super(XOR, self).__init__()\n",
        "        self.lin1 = nn.Linear(input_dim, hidden_layer_1)\n",
        "        self.lin2 = nn.Linear(hidden_layer_1, hidden_layer_2)\n",
        "        self.lin3 = nn.Linear(hidden_layer_2, output_dim)\n",
        "        \n",
        "        \n",
        "    \n",
        "    def forward(self, x):\n",
        "        x = self.lin1(x)\n",
        "        x = F.tanh(x)\n",
        "        x = self.lin2(x)\n",
        "        x = F.tanh(x)\n",
        "        x = self.lin3(x)\n",
        "        \n",
        "        return x"
      ],
      "execution_count": 3,
      "outputs": []
    },
    {
      "cell_type": "code",
      "metadata": {
        "colab": {
          "base_uri": "https://localhost:8080/"
        },
        "id": "8gQIQExYw65K",
        "outputId": "4623fe4b-0cf3-4957-8e6f-7aaead30d77f"
      },
      "source": [
        "model = XOR()\n",
        "print(model)\n",
        "from torchsummary import summary\n",
        "summary(model, (2,2))"
      ],
      "execution_count": 4,
      "outputs": [
        {
          "output_type": "stream",
          "name": "stdout",
          "text": [
            "XOR(\n",
            "  (lin1): Linear(in_features=2, out_features=5, bias=True)\n",
            "  (lin2): Linear(in_features=5, out_features=4, bias=True)\n",
            "  (lin3): Linear(in_features=4, out_features=1, bias=True)\n",
            ")\n",
            "----------------------------------------------------------------\n",
            "        Layer (type)               Output Shape         Param #\n",
            "================================================================\n",
            "            Linear-1                 [-1, 2, 5]              15\n",
            "            Linear-2                 [-1, 2, 4]              24\n",
            "            Linear-3                 [-1, 2, 1]               5\n",
            "================================================================\n",
            "Total params: 44\n",
            "Trainable params: 44\n",
            "Non-trainable params: 0\n",
            "----------------------------------------------------------------\n",
            "Input size (MB): 0.00\n",
            "Forward/backward pass size (MB): 0.00\n",
            "Params size (MB): 0.00\n",
            "Estimated Total Size (MB): 0.00\n",
            "----------------------------------------------------------------\n"
          ]
        },
        {
          "output_type": "stream",
          "name": "stderr",
          "text": [
            "/usr/local/lib/python3.7/dist-packages/torch/nn/functional.py:1794: UserWarning: nn.functional.tanh is deprecated. Use torch.tanh instead.\n",
            "  warnings.warn(\"nn.functional.tanh is deprecated. Use torch.tanh instead.\")\n"
          ]
        }
      ]
    },
    {
      "cell_type": "code",
      "metadata": {
        "id": "yeotEq19x6XF"
      },
      "source": [
        "def weights_init(model):\n",
        "    for m in model.modules():\n",
        "        if isinstance(m, nn.Linear):\n",
        "            # initialize the weight tensor, here we use a normal distribution\n",
        "            m.weight.data.normal_(0, 1)\n",
        "\n",
        "weights_init(model)"
      ],
      "execution_count": 5,
      "outputs": []
    },
    {
      "cell_type": "code",
      "metadata": {
        "id": "WrD_sNzLx78e"
      },
      "source": [
        "loss_func = nn.L1Loss()"
      ],
      "execution_count": 6,
      "outputs": []
    },
    {
      "cell_type": "code",
      "metadata": {
        "id": "-zvbrMd2x_lA"
      },
      "source": [
        "optimizer = optim.SGD(model.parameters(), lr=0.02, momentum=0.9)\n"
      ],
      "execution_count": 7,
      "outputs": []
    },
    {
      "cell_type": "code",
      "metadata": {
        "colab": {
          "base_uri": "https://localhost:8080/"
        },
        "id": "q7tWa3D7yA5X",
        "outputId": "2fd26a22-63d7-435a-d232-5157eced7674"
      },
      "source": [
        "epochs = 2001\n",
        "steps = X.size(0)\n",
        "for i in range(epochs):\n",
        "    for j in range(steps):\n",
        "        data_point = np.random.randint(X.size(0))\n",
        "        x_var = Variable(X[data_point], requires_grad=False)\n",
        "        y_var = Variable(Y[data_point], requires_grad=False)\n",
        "        \n",
        "        optimizer.zero_grad()\n",
        "        y_hat = model(x_var)\n",
        "        loss = loss_func.forward(y_hat, y_var)\n",
        "        loss.backward()\n",
        "        optimizer.step()\n",
        "        \n",
        "    if i % 50 == 0:\n",
        "        print( \"Epoch: {0}, Loss: {1}, \".format(i, loss.data.numpy()))"
      ],
      "execution_count": 8,
      "outputs": [
        {
          "output_type": "stream",
          "name": "stderr",
          "text": [
            "/usr/local/lib/python3.7/dist-packages/torch/nn/functional.py:1794: UserWarning: nn.functional.tanh is deprecated. Use torch.tanh instead.\n",
            "  warnings.warn(\"nn.functional.tanh is deprecated. Use torch.tanh instead.\")\n"
          ]
        },
        {
          "output_type": "stream",
          "name": "stdout",
          "text": [
            "Epoch: 0, Loss: 0.23471364378929138, \n",
            "Epoch: 50, Loss: 0.09594607353210449, \n",
            "Epoch: 100, Loss: 0.3026108741760254, \n",
            "Epoch: 150, Loss: 0.5622466206550598, \n",
            "Epoch: 200, Loss: 0.10390150547027588, \n",
            "Epoch: 250, Loss: 0.12347742915153503, \n",
            "Epoch: 300, Loss: 0.3268073797225952, \n",
            "Epoch: 350, Loss: 0.02139061689376831, \n",
            "Epoch: 400, Loss: 0.11681750416755676, \n",
            "Epoch: 450, Loss: 0.48551419377326965, \n",
            "Epoch: 500, Loss: 0.06977683305740356, \n",
            "Epoch: 550, Loss: 0.2241659015417099, \n",
            "Epoch: 600, Loss: 0.2991771399974823, \n",
            "Epoch: 650, Loss: 0.1376495361328125, \n",
            "Epoch: 700, Loss: 0.17018009722232819, \n",
            "Epoch: 750, Loss: 0.18706929683685303, \n",
            "Epoch: 800, Loss: 0.2521700859069824, \n",
            "Epoch: 850, Loss: 0.2569453716278076, \n",
            "Epoch: 900, Loss: 0.009276274591684341, \n",
            "Epoch: 950, Loss: 0.21990275382995605, \n",
            "Epoch: 1000, Loss: 0.03267356753349304, \n",
            "Epoch: 1050, Loss: 0.2831934690475464, \n",
            "Epoch: 1100, Loss: 0.04458928108215332, \n",
            "Epoch: 1150, Loss: 0.12815093994140625, \n",
            "Epoch: 1200, Loss: 0.6129074096679688, \n",
            "Epoch: 1250, Loss: 0.04418940842151642, \n",
            "Epoch: 1300, Loss: 0.015366196632385254, \n",
            "Epoch: 1350, Loss: 0.32902586460113525, \n",
            "Epoch: 1400, Loss: 0.10608679056167603, \n",
            "Epoch: 1450, Loss: 0.16310200095176697, \n",
            "Epoch: 1500, Loss: 0.09267298132181168, \n",
            "Epoch: 1550, Loss: 0.007356107234954834, \n",
            "Epoch: 1600, Loss: 0.01455610990524292, \n",
            "Epoch: 1650, Loss: 0.13668859004974365, \n",
            "Epoch: 1700, Loss: 0.21336209774017334, \n",
            "Epoch: 1750, Loss: 0.28069424629211426, \n",
            "Epoch: 1800, Loss: 0.1754474639892578, \n",
            "Epoch: 1850, Loss: 0.8703319430351257, \n",
            "Epoch: 1900, Loss: 0.021153688430786133, \n",
            "Epoch: 1950, Loss: 0.34574633836746216, \n",
            "Epoch: 2000, Loss: 0.024667024612426758, \n"
          ]
        }
      ]
    },
    {
      "cell_type": "code",
      "metadata": {
        "id": "QV0dIdveyCRi"
      },
      "source": [
        ""
      ],
      "execution_count": null,
      "outputs": []
    }
  ]
}